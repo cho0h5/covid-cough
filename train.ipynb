{
 "cells": [
  {
   "cell_type": "code",
   "execution_count": 1,
   "metadata": {
    "ExecuteTime": {
     "end_time": "2020-11-26T13:08:03.007427Z",
     "start_time": "2020-11-26T13:08:01.143982Z"
    }
   },
   "outputs": [],
   "source": [
    "from tensorflow.keras.layers import Dense, Input, MaxPooling2D, Dropout, Flatten\n",
    "from tensorflow.keras.models import Sequential\n",
    "from tensorflow.keras.applications import resnet\n",
    "from tensorflow.keras.preprocessing.image import ImageDataGenerator\n",
    "import tensorflow as tf\n",
    "from tensorflow.keras import metrics\n",
    "from tensorflow.keras.callbacks import EarlyStopping"
   ]
  },
  {
   "cell_type": "code",
   "execution_count": 2,
   "metadata": {
    "ExecuteTime": {
     "end_time": "2020-11-26T13:08:03.012473Z",
     "start_time": "2020-11-26T13:08:03.009450Z"
    }
   },
   "outputs": [],
   "source": [
    "batch_size = 64\n",
    "width, height, channel = 400, 400, 3\n",
    "no_epochs = 20\n",
    "verbosity = 1\n",
    "input_shape = (width, height, channel)"
   ]
  },
  {
   "cell_type": "code",
   "execution_count": 3,
   "metadata": {
    "ExecuteTime": {
     "end_time": "2020-11-26T13:08:07.491854Z",
     "start_time": "2020-11-26T13:08:03.014015Z"
    }
   },
   "outputs": [],
   "source": [
    "# ResNet50 모델 사용\n",
    "\n",
    "pretrained_model = tf.keras.applications.ResNet50(\n",
    "    include_top=False,\n",
    "    weights=\"imagenet\",\n",
    "    input_tensor=None,\n",
    "    input_shape=input_shape,\n",
    "    pooling=None,\n",
    "    classes=1000\n",
    ")"
   ]
  },
  {
   "cell_type": "code",
   "execution_count": 4,
   "metadata": {
    "ExecuteTime": {
     "end_time": "2020-11-26T13:08:08.071731Z",
     "start_time": "2020-11-26T13:08:07.493919Z"
    }
   },
   "outputs": [
    {
     "name": "stdout",
     "output_type": "stream",
     "text": [
      "Found 521 images belonging to 2 classes.\n",
      "Found 135 images belonging to 2 classes.\n"
     ]
    }
   ],
   "source": [
    "train_datagen = ImageDataGenerator(rescale=1./255,\n",
    "                                   shear_range=0.2,\n",
    "                                   rotation_range=0.2,\n",
    "                                   width_shift_range=0.2,\n",
    "                                   height_shift_range=0.2,\n",
    "                                   zoom_range=0.2,\n",
    "                                   horizontal_flip=True,\n",
    "                                   vertical_flip=True,\n",
    "                                   fill_mode='nearest')\n",
    "train_generator = train_datagen.flow_from_directory('preprocessed_data/train',\n",
    "                                                    target_size=(400, 400),\n",
    "                                                    batch_size=batch_size,\n",
    "                                                    class_mode='binary')\n",
    "\n",
    "valid_datagen = ImageDataGenerator(rescale=1./255)\n",
    "valid_generator = valid_datagen.flow_from_directory('preprocessed_data/test',\n",
    "                                                    target_size=(400, 400),\n",
    "                                                    batch_size=batch_size,\n",
    "                                                    class_mode='binary')\n",
    "\n",
    "pretrained_model.trainable=True\n",
    "set_trainable=False\n",
    "\n",
    "for layer in pretrained_model.layers:\n",
    "    if layer.name == 'block7c_project_conv':\n",
    "        set_trainable=True\n",
    "    if set_trainable:\n",
    "        layer.trainable=True\n",
    "    else:\n",
    "        layer.trainable=False\n",
    "\n",
    "\n",
    "model=Sequential()\n",
    "model.add(pretrained_model)\n",
    "model.add(MaxPooling2D())\n",
    "model.add(Dropout(0.2))\n",
    "model.add(Flatten())\n",
    "model.add(Dense(1, activation='sigmoid'))\n",
    "\n",
    "model.compile(loss='binary_crossentropy',\n",
    "              optimizer='adam',\n",
    "              metrics=[metrics.AUC(), 'accuracy'])"
   ]
  },
  {
   "cell_type": "code",
   "execution_count": 5,
   "metadata": {
    "ExecuteTime": {
     "end_time": "2020-11-26T13:23:48.002731Z",
     "start_time": "2020-11-26T13:08:08.073629Z"
    },
    "scrolled": false
   },
   "outputs": [
    {
     "name": "stdout",
     "output_type": "stream",
     "text": [
      "WARNING:tensorflow:sample_weight modes were coerced from\n",
      "  ...\n",
      "    to  \n",
      "  ['...']\n",
      "WARNING:tensorflow:sample_weight modes were coerced from\n",
      "  ...\n",
      "    to  \n",
      "  ['...']\n",
      "Train for 8 steps, validate for 2 steps\n",
      "Epoch 1/20\n",
      "8/8 [==============================] - 23s 3s/step - loss: 10.5304 - auc: 0.5347 - accuracy: 0.5208 - val_loss: 7.0162 - val_auc: 0.5000 - val_accuracy: 0.5000\n",
      "Epoch 2/20\n",
      "8/8 [==============================] - 18s 2s/step - loss: 5.6955 - auc: 0.6085 - accuracy: 0.5952 - val_loss: 5.9267 - val_auc: 0.5000 - val_accuracy: 0.5000\n",
      "Epoch 3/20\n",
      "8/8 [==============================] - 19s 2s/step - loss: 2.6627 - auc: 0.7243 - accuracy: 0.6696 - val_loss: 6.5825 - val_auc: 0.5000 - val_accuracy: 0.5000\n",
      "Epoch 4/20\n",
      "8/8 [==============================] - 19s 2s/step - loss: 1.7434 - auc: 0.7980 - accuracy: 0.7330 - val_loss: 5.1175 - val_auc: 0.5000 - val_accuracy: 0.5000\n",
      "Epoch 5/20\n",
      "8/8 [==============================] - 19s 2s/step - loss: 1.6949 - auc: 0.7894 - accuracy: 0.7090 - val_loss: 3.4716 - val_auc: 0.5000 - val_accuracy: 0.5000\n",
      "Epoch 6/20\n",
      "8/8 [==============================] - 19s 2s/step - loss: 1.6421 - auc: 0.8140 - accuracy: 0.7484 - val_loss: 3.5664 - val_auc: 0.5000 - val_accuracy: 0.5000\n",
      "Epoch 7/20\n",
      "8/8 [==============================] - 19s 2s/step - loss: 1.3137 - auc: 0.8448 - accuracy: 0.7790 - val_loss: 5.7695 - val_auc: 0.5000 - val_accuracy: 0.5000\n",
      "Epoch 8/20\n",
      "8/8 [==============================] - 20s 2s/step - loss: 1.0872 - auc: 0.8700 - accuracy: 0.8140 - val_loss: 6.2943 - val_auc: 0.5000 - val_accuracy: 0.5000\n",
      "Epoch 9/20\n",
      "7/8 [=========================>....] - ETA: 2s - loss: 0.8675 - auc: 0.8805 - accuracy: 0.8193Restoring model weights from the end of the best epoch.\n",
      "8/8 [==============================] - 19s 2s/step - loss: 0.8389 - auc: 0.8845 - accuracy: 0.8249 - val_loss: 7.1778 - val_auc: 0.5000 - val_accuracy: 0.5000\n",
      "Epoch 00009: early stopping\n"
     ]
    }
   ],
   "source": [
    "es_callback = EarlyStopping(monitor='val_auc', mode='max', patience=8,\n",
    "                                              verbose=1, min_delta=0.0001, restore_best_weights=True)\n",
    "\n",
    "history = model.fit(train_generator,\n",
    "                    steps_per_epoch=train_generator.samples//batch_size,\n",
    "                    epochs = no_epochs,\n",
    "                    validation_data=valid_generator,\n",
    "                    validation_steps=valid_generator.samples//batch_size,\n",
    "                    callbacks= [es_callback],\n",
    "                    verbose=verbosity,\n",
    "                   )"
   ]
  },
  {
   "cell_type": "code",
   "execution_count": 6,
   "metadata": {
    "ExecuteTime": {
     "end_time": "2020-11-26T13:23:52.228122Z",
     "start_time": "2020-11-26T13:23:48.004882Z"
    }
   },
   "outputs": [],
   "source": [
    "prediction = model.predict(valid_generator)"
   ]
  },
  {
   "cell_type": "code",
   "execution_count": 7,
   "metadata": {
    "ExecuteTime": {
     "end_time": "2020-11-26T13:23:52.237962Z",
     "start_time": "2020-11-26T13:23:52.229972Z"
    }
   },
   "outputs": [
    {
     "name": "stdout",
     "output_type": "stream",
     "text": [
      "135\n",
      "0\n"
     ]
    }
   ],
   "source": [
    "import numpy as np\n",
    "\n",
    "print(len(prediction[np.where(prediction > 0.5)]))\n",
    "print(len(prediction[np.where(prediction < 0.5)]))"
   ]
  },
  {
   "cell_type": "code",
   "execution_count": 8,
   "metadata": {},
   "outputs": [
    {
     "data": {
      "text/plain": [
       "array([[0.99999905],\n",
       "       [0.99999917],\n",
       "       [0.99999917],\n",
       "       [0.99999917],\n",
       "       [0.99999905],\n",
       "       [0.9999993 ],\n",
       "       [0.99999917],\n",
       "       [0.99999917],\n",
       "       [0.99999917],\n",
       "       [0.9999993 ],\n",
       "       [0.99999917],\n",
       "       [0.9999993 ],\n",
       "       [0.99999917],\n",
       "       [0.9999993 ],\n",
       "       [0.99999905],\n",
       "       [0.99999917],\n",
       "       [0.9999993 ],\n",
       "       [0.99999905],\n",
       "       [0.99999917],\n",
       "       [0.99999905],\n",
       "       [0.9999993 ],\n",
       "       [0.99999905],\n",
       "       [0.9999993 ],\n",
       "       [0.9999993 ],\n",
       "       [0.9999993 ],\n",
       "       [0.99999917],\n",
       "       [0.99999905],\n",
       "       [0.99999917],\n",
       "       [0.99999917],\n",
       "       [0.99999917],\n",
       "       [0.9999993 ],\n",
       "       [0.99999905],\n",
       "       [0.9999993 ],\n",
       "       [0.99999917],\n",
       "       [0.99999917],\n",
       "       [0.99999905],\n",
       "       [0.99999917],\n",
       "       [0.9999994 ],\n",
       "       [0.9999993 ],\n",
       "       [0.9999993 ],\n",
       "       [0.9999993 ],\n",
       "       [0.99999917],\n",
       "       [0.99999917],\n",
       "       [0.9999993 ],\n",
       "       [0.99999905],\n",
       "       [0.9999993 ],\n",
       "       [0.99999917],\n",
       "       [0.99999917],\n",
       "       [0.99999917],\n",
       "       [0.9999993 ],\n",
       "       [0.9999994 ],\n",
       "       [0.9999993 ],\n",
       "       [0.99999917],\n",
       "       [0.9999994 ],\n",
       "       [0.99999917],\n",
       "       [0.99999905],\n",
       "       [0.99999905],\n",
       "       [0.99999917],\n",
       "       [0.99999917],\n",
       "       [0.99999917],\n",
       "       [0.99999917],\n",
       "       [0.9999993 ],\n",
       "       [0.99999905],\n",
       "       [0.99999917],\n",
       "       [0.9999993 ],\n",
       "       [0.99999917],\n",
       "       [0.99999917],\n",
       "       [0.99999917],\n",
       "       [0.99999917],\n",
       "       [0.99999917],\n",
       "       [0.99999917],\n",
       "       [0.9999993 ],\n",
       "       [0.99999917],\n",
       "       [0.9999993 ],\n",
       "       [0.99999917],\n",
       "       [0.9999993 ],\n",
       "       [0.9999993 ],\n",
       "       [0.99999917],\n",
       "       [0.99999917],\n",
       "       [0.9999993 ],\n",
       "       [0.99999917],\n",
       "       [0.9999993 ],\n",
       "       [0.99999905],\n",
       "       [0.99999917],\n",
       "       [0.99999917],\n",
       "       [0.99999917],\n",
       "       [0.99999917],\n",
       "       [0.99999917],\n",
       "       [0.9999993 ],\n",
       "       [0.9999993 ],\n",
       "       [0.9999993 ],\n",
       "       [0.99999917],\n",
       "       [0.9999993 ],\n",
       "       [0.99999905],\n",
       "       [0.9999993 ],\n",
       "       [0.9999993 ],\n",
       "       [0.99999917],\n",
       "       [0.9999993 ],\n",
       "       [0.99999917],\n",
       "       [0.99999917],\n",
       "       [0.99999917],\n",
       "       [0.99999917],\n",
       "       [0.99999917],\n",
       "       [0.9999993 ],\n",
       "       [0.9999993 ],\n",
       "       [0.99999905],\n",
       "       [0.99999917],\n",
       "       [0.99999917],\n",
       "       [0.99999917],\n",
       "       [0.9999993 ],\n",
       "       [0.9999993 ],\n",
       "       [0.99999917],\n",
       "       [0.9999993 ],\n",
       "       [0.9999993 ],\n",
       "       [0.99999905],\n",
       "       [0.9999993 ],\n",
       "       [0.9999993 ],\n",
       "       [0.99999917],\n",
       "       [0.9999993 ],\n",
       "       [0.99999917],\n",
       "       [0.99999917],\n",
       "       [0.99999917],\n",
       "       [0.9999993 ],\n",
       "       [0.99999905],\n",
       "       [0.9999993 ],\n",
       "       [0.99999917],\n",
       "       [0.99999905],\n",
       "       [0.9999993 ],\n",
       "       [0.99999905],\n",
       "       [0.99999917],\n",
       "       [0.99999917],\n",
       "       [0.99999917],\n",
       "       [0.9999993 ],\n",
       "       [0.99999917],\n",
       "       [0.99999917]], dtype=float32)"
      ]
     },
     "execution_count": 8,
     "metadata": {},
     "output_type": "execute_result"
    }
   ],
   "source": [
    "prediction"
   ]
  },
  {
   "cell_type": "code",
   "execution_count": null,
   "metadata": {},
   "outputs": [],
   "source": []
  }
 ],
 "metadata": {
  "kernelspec": {
   "display_name": "Environment (conda_tensorflow2_p36)",
   "language": "python",
   "name": "conda_tensorflow2_p36"
  },
  "language_info": {
   "codemirror_mode": {
    "name": "ipython",
    "version": 3
   },
   "file_extension": ".py",
   "mimetype": "text/x-python",
   "name": "python",
   "nbconvert_exporter": "python",
   "pygments_lexer": "ipython3",
   "version": "3.6.10"
  }
 },
 "nbformat": 4,
 "nbformat_minor": 2
}
