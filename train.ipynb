{
 "cells": [
  {
   "cell_type": "code",
   "execution_count": 1,
   "metadata": {
    "ExecuteTime": {
     "end_time": "2020-11-26T13:08:03.007427Z",
     "start_time": "2020-11-26T13:08:01.143982Z"
    }
   },
   "outputs": [],
   "source": [
    "from tensorflow.keras.layers import Dense, Input, MaxPooling2D, Dropout, Flatten\n",
    "from tensorflow.keras.models import Sequential\n",
    "from tensorflow.keras.applications import resnet\n",
    "from tensorflow.keras.preprocessing.image import ImageDataGenerator\n",
    "import tensorflow as tf\n",
    "from tensorflow.keras import metrics\n",
    "from tensorflow.keras.callbacks import EarlyStopping"
   ]
  },
  {
   "cell_type": "code",
   "execution_count": 2,
   "metadata": {
    "ExecuteTime": {
     "end_time": "2020-11-26T13:08:03.012473Z",
     "start_time": "2020-11-26T13:08:03.009450Z"
    }
   },
   "outputs": [],
   "source": [
    "batch_size = 64\n",
    "width, height, channel = 400, 400, 3\n",
    "no_epochs = 30\n",
    "verbosity = 2\n",
    "input_shape = (width, height, channel)"
   ]
  },
  {
   "cell_type": "code",
   "execution_count": 3,
   "metadata": {
    "ExecuteTime": {
     "end_time": "2020-11-26T13:08:07.491854Z",
     "start_time": "2020-11-26T13:08:03.014015Z"
    }
   },
   "outputs": [
    {
     "name": "stdout",
     "output_type": "stream",
     "text": [
      "Downloading data from https://storage.googleapis.com/tensorflow/keras-applications/vgg19/vgg19_weights_tf_dim_ordering_tf_kernels_notop.h5\n",
      "80142336/80134624 [==============================] - 9s 0us/step\n"
     ]
    }
   ],
   "source": [
    "# ResNet50 모델 사용\n",
    "\n",
    "pretrained_model = tf.keras.applications.VGG19(\n",
    "    include_top=False,\n",
    "    weights=\"imagenet\",\n",
    "    input_tensor=None,\n",
    "    input_shape=input_shape,\n",
    "    pooling=None,\n",
    "    classes=1000\n",
    ") "
   ]
  },
  {
   "cell_type": "code",
   "execution_count": 4,
   "metadata": {
    "ExecuteTime": {
     "end_time": "2020-11-26T13:08:08.071731Z",
     "start_time": "2020-11-26T13:08:07.493919Z"
    }
   },
   "outputs": [
    {
     "name": "stdout",
     "output_type": "stream",
     "text": [
      "Found 2603 images belonging to 2 classes.\n",
      "Found 386 images belonging to 2 classes.\n"
     ]
    }
   ],
   "source": [
    "train_datagen = ImageDataGenerator(rescale=1./255)\n",
    "train_generator = train_datagen.flow_from_directory('preprocessed_data/train',\n",
    "                                                    target_size=(400, 400),\n",
    "                                                    batch_size=batch_size,\n",
    "                                                    class_mode='binary')\n",
    "\n",
    "valid_datagen = ImageDataGenerator(rescale=1./255)\n",
    "valid_generator = valid_datagen.flow_from_directory('preprocessed_data/test',\n",
    "                                                    target_size=(400, 400),\n",
    "                                                    batch_size=batch_size,\n",
    "                                                    class_mode='binary')\n",
    "\n",
    "pretrained_model.trainable=True\n",
    "set_trainable=False\n",
    "\n",
    "for layer in pretrained_model.layers:\n",
    "    if layer.name == 'block7c_project_conv':\n",
    "        set_trainable=True\n",
    "    if set_trainable:\n",
    "        layer.trainable=True\n",
    "    else:\n",
    "        layer.trainable=False\n",
    "\n",
    "\n",
    "model=Sequential()\n",
    "model.add(pretrained_model)\n",
    "model.add(MaxPooling2D())\n",
    "model.add(Dropout(0.2))\n",
    "model.add(Flatten())\n",
    "model.add(Dense(1, activation='sigmoid'))\n",
    "\n",
    "model.compile(loss='binary_crossentropy',\n",
    "              optimizer='adam',\n",
    "              metrics=[metrics.AUC(), 'accuracy'])"
   ]
  },
  {
   "cell_type": "code",
   "execution_count": null,
   "metadata": {
    "ExecuteTime": {
     "end_time": "2020-11-26T13:23:48.002731Z",
     "start_time": "2020-11-26T13:08:08.073629Z"
    },
    "scrolled": false
   },
   "outputs": [
    {
     "name": "stdout",
     "output_type": "stream",
     "text": [
      "Epoch 1/30\n",
      "40/40 - 28s - loss: 0.6064 - auc: 0.7341 - accuracy: 0.6715 - val_loss: 0.5936 - val_auc: 0.8991 - val_accuracy: 0.6484\n",
      "Epoch 2/30\n",
      "40/40 - 27s - loss: 0.4298 - auc: 0.8916 - accuracy: 0.8086 - val_loss: 0.3785 - val_auc: 0.9346 - val_accuracy: 0.8255\n",
      "Epoch 3/30\n",
      "40/40 - 27s - loss: 0.3538 - auc: 0.9380 - accuracy: 0.8637 - val_loss: 0.3442 - val_auc: 0.9628 - val_accuracy: 0.8594\n",
      "Epoch 4/30\n",
      "40/40 - 27s - loss: 0.2980 - auc: 0.9671 - accuracy: 0.9000 - val_loss: 0.3129 - val_auc: 0.9790 - val_accuracy: 0.8854\n",
      "Epoch 5/30\n",
      "40/40 - 26s - loss: 0.2672 - auc: 0.9735 - accuracy: 0.9157 - val_loss: 0.3260 - val_auc: 0.9859 - val_accuracy: 0.8542\n",
      "Epoch 6/30\n",
      "40/40 - 26s - loss: 0.2395 - auc: 0.9817 - accuracy: 0.9287 - val_loss: 0.2202 - val_auc: 0.9913 - val_accuracy: 0.9401\n",
      "Epoch 7/30\n",
      "40/40 - 26s - loss: 0.2179 - auc: 0.9858 - accuracy: 0.9354 - val_loss: 0.2276 - val_auc: 0.9939 - val_accuracy: 0.9375\n",
      "Epoch 8/30\n",
      "40/40 - 26s - loss: 0.1924 - auc: 0.9916 - accuracy: 0.9508 - val_loss: 0.1543 - val_auc: 0.9963 - val_accuracy: 0.9714\n",
      "Epoch 9/30\n",
      "40/40 - 27s - loss: 0.1756 - auc: 0.9949 - accuracy: 0.9606 - val_loss: 0.2042 - val_auc: 0.9975 - val_accuracy: 0.9427\n",
      "Epoch 10/30\n",
      "40/40 - 27s - loss: 0.1668 - auc: 0.9949 - accuracy: 0.9618 - val_loss: 0.2180 - val_auc: 0.9985 - val_accuracy: 0.9219\n",
      "Epoch 11/30\n",
      "40/40 - 26s - loss: 0.1504 - auc: 0.9961 - accuracy: 0.9701 - val_loss: 0.1854 - val_auc: 0.9988 - val_accuracy: 0.9505\n",
      "Epoch 12/30\n",
      "40/40 - 27s - loss: 0.1414 - auc: 0.9970 - accuracy: 0.9712 - val_loss: 0.1024 - val_auc: 0.9991 - val_accuracy: 0.9870\n",
      "Epoch 13/30\n",
      "40/40 - 26s - loss: 0.1374 - auc: 0.9969 - accuracy: 0.9732 - val_loss: 0.1251 - val_auc: 0.9993 - val_accuracy: 0.9714\n",
      "Epoch 14/30\n",
      "40/40 - 27s - loss: 0.1211 - auc: 0.9985 - accuracy: 0.9807 - val_loss: 0.1228 - val_auc: 0.9994 - val_accuracy: 0.9688\n",
      "Epoch 15/30\n",
      "40/40 - 27s - loss: 0.1144 - auc: 0.9984 - accuracy: 0.9823 - val_loss: 0.0967 - val_auc: 0.9997 - val_accuracy: 0.9818\n",
      "Epoch 16/30\n",
      "40/40 - 28s - loss: 0.1035 - auc: 0.9995 - accuracy: 0.9866 - val_loss: 0.0752 - val_auc: 0.9998 - val_accuracy: 0.9896\n",
      "Epoch 17/30\n",
      "40/40 - 27s - loss: 0.1012 - auc: 0.9992 - accuracy: 0.9882 - val_loss: 0.0852 - val_auc: 0.9998 - val_accuracy: 0.9870\n",
      "Epoch 18/30\n",
      "40/40 - 26s - loss: 0.0953 - auc: 0.9995 - accuracy: 0.9854 - val_loss: 0.0821 - val_auc: 0.9998 - val_accuracy: 0.9870\n",
      "Epoch 19/30\n",
      "40/40 - 27s - loss: 0.0901 - auc: 0.9995 - accuracy: 0.9882 - val_loss: 0.0728 - val_auc: 1.0000 - val_accuracy: 0.9870\n",
      "Epoch 20/30\n",
      "40/40 - 27s - loss: 0.0858 - auc: 0.9996 - accuracy: 0.9917 - val_loss: 0.0994 - val_auc: 1.0000 - val_accuracy: 0.9740\n",
      "Epoch 21/30\n",
      "40/40 - 26s - loss: 0.0848 - auc: 0.9991 - accuracy: 0.9894 - val_loss: 0.0764 - val_auc: 1.0000 - val_accuracy: 0.9870\n",
      "Epoch 22/30\n",
      "40/40 - 26s - loss: 0.0776 - auc: 0.9999 - accuracy: 0.9890 - val_loss: 0.0799 - val_auc: 1.0000 - val_accuracy: 0.9870\n",
      "Epoch 23/30\n",
      "40/40 - 28s - loss: 0.0710 - auc: 0.9999 - accuracy: 0.9925 - val_loss: 0.0524 - val_auc: 1.0000 - val_accuracy: 0.9922\n",
      "Epoch 24/30\n",
      "40/40 - 26s - loss: 0.0741 - auc: 0.9994 - accuracy: 0.9894 - val_loss: 0.0705 - val_auc: 1.0000 - val_accuracy: 0.9870\n",
      "Epoch 25/30\n",
      "40/40 - 27s - loss: 0.0678 - auc: 0.9999 - accuracy: 0.9905 - val_loss: 0.0659 - val_auc: 1.0000 - val_accuracy: 0.9870\n",
      "Epoch 26/30\n"
     ]
    }
   ],
   "source": [
    "es_callback = EarlyStopping(monitor='val_auc', mode='max', patience=8,\n",
    "                                              verbose=1, min_delta=0.0001, restore_best_weights=True)\n",
    "\n",
    "history = model.fit(train_generator,\n",
    "                    steps_per_epoch=train_generator.samples//batch_size,\n",
    "                    epochs = no_epochs,\n",
    "                    validation_data=valid_generator,\n",
    "                    validation_steps=valid_generator.samples//batch_size,\n",
    "                    callbacks= [es_callback],\n",
    "                    verbose=verbosity,\n",
    "                   )"
   ]
  },
  {
   "cell_type": "code",
   "execution_count": null,
   "metadata": {
    "ExecuteTime": {
     "end_time": "2020-11-26T13:23:52.228122Z",
     "start_time": "2020-11-26T13:23:48.004882Z"
    }
   },
   "outputs": [],
   "source": [
    "prediction = model.predict(valid_generator)"
   ]
  },
  {
   "cell_type": "code",
   "execution_count": null,
   "metadata": {
    "ExecuteTime": {
     "end_time": "2020-11-26T13:23:52.237962Z",
     "start_time": "2020-11-26T13:23:52.229972Z"
    }
   },
   "outputs": [],
   "source": [
    "import numpy as np\n",
    "\n",
    "print(len(prediction[np.where(prediction > 0.5)]))\n",
    "print(len(prediction[np.where(prediction < 0.5)]))"
   ]
  },
  {
   "cell_type": "code",
   "execution_count": null,
   "metadata": {
    "scrolled": false
   },
   "outputs": [],
   "source": [
    "prediction"
   ]
  },
  {
   "cell_type": "code",
   "execution_count": null,
   "metadata": {
    "scrolled": true
   },
   "outputs": [],
   "source": [
    "tf.__version__"
   ]
  },
  {
   "cell_type": "code",
   "execution_count": null,
   "metadata": {},
   "outputs": [],
   "source": [
    "model.evaluate(valid_generator)"
   ]
  },
  {
   "cell_type": "code",
   "execution_count": null,
   "metadata": {},
   "outputs": [],
   "source": []
  }
 ],
 "metadata": {
  "kernelspec": {
   "display_name": "Python [conda env:tensorflow2_p36] *",
   "language": "python",
   "name": "conda-env-tensorflow2_p36-py"
  },
  "language_info": {
   "codemirror_mode": {
    "name": "ipython",
    "version": 3
   },
   "file_extension": ".py",
   "mimetype": "text/x-python",
   "name": "python",
   "nbconvert_exporter": "python",
   "pygments_lexer": "ipython3",
   "version": "3.6.10"
  }
 },
 "nbformat": 4,
 "nbformat_minor": 2
}
