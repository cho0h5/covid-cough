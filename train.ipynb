{
 "cells": [
  {
   "cell_type": "code",
   "execution_count": 1,
   "metadata": {
    "ExecuteTime": {
     "end_time": "2020-11-26T13:08:03.007427Z",
     "start_time": "2020-11-26T13:08:01.143982Z"
    }
   },
   "outputs": [],
   "source": [
    "from tensorflow.keras.layers import Dense, Input, MaxPooling2D, Dropout, Flatten\n",
    "from tensorflow.keras.models import Sequential\n",
    "from tensorflow.keras.applications import resnet\n",
    "from tensorflow.keras.preprocessing.image import ImageDataGenerator\n",
    "import tensorflow as tf\n",
    "from tensorflow.keras import metrics\n",
    "from tensorflow.keras.callbacks import EarlyStopping"
   ]
  },
  {
   "cell_type": "code",
   "execution_count": 2,
   "metadata": {
    "ExecuteTime": {
     "end_time": "2020-11-26T13:08:03.012473Z",
     "start_time": "2020-11-26T13:08:03.009450Z"
    }
   },
   "outputs": [],
   "source": [
    "batch_size = 64\n",
    "width, height, channel = 400, 400, 3\n",
    "no_epochs = 30\n",
    "verbosity = 2\n",
    "input_shape = (width, height, channel)"
   ]
  },
  {
   "cell_type": "code",
   "execution_count": 3,
   "metadata": {
    "ExecuteTime": {
     "end_time": "2020-11-26T13:08:07.491854Z",
     "start_time": "2020-11-26T13:08:03.014015Z"
    }
   },
   "outputs": [],
   "source": [
    "# ResNet50 모델 사용\n",
    "\n",
    "pretrained_model = tf.keras.applications.ResNet50(\n",
    "    include_top=False,\n",
    "    weights=\"imagenet\",\n",
    "    input_tensor=None,\n",
    "    input_shape=input_shape,\n",
    "    pooling=None,\n",
    "    classes=1000\n",
    ") "
   ]
  },
  {
   "cell_type": "code",
   "execution_count": 4,
   "metadata": {
    "ExecuteTime": {
     "end_time": "2020-11-26T13:08:08.071731Z",
     "start_time": "2020-11-26T13:08:07.493919Z"
    }
   },
   "outputs": [
    {
     "name": "stdout",
     "output_type": "stream",
     "text": [
      "Found 2603 images belonging to 2 classes.\n",
      "Found 650 images belonging to 2 classes.\n"
     ]
    }
   ],
   "source": [
    "train_datagen = ImageDataGenerator(rescale=1./255)\n",
    "train_generator = train_datagen.flow_from_directory('preprocessed_data/train',\n",
    "                                                    target_size=(400, 400),\n",
    "                                                    batch_size=batch_size,\n",
    "                                                    class_mode='binary')\n",
    "\n",
    "valid_datagen = ImageDataGenerator(rescale=1./255)\n",
    "valid_generator = valid_datagen.flow_from_directory('preprocessed_data/test',\n",
    "                                                    target_size=(400, 400),\n",
    "                                                    batch_size=batch_size,\n",
    "                                                    class_mode='binary')\n",
    "\n",
    "pretrained_model.trainable=True\n",
    "set_trainable=False\n",
    "\n",
    "for layer in pretrained_model.layers:\n",
    "    if layer.name == 'block7c_project_conv':\n",
    "        set_trainable=True\n",
    "    if set_trainable:\n",
    "        layer.trainable=True\n",
    "    else:\n",
    "        layer.trainable=False\n",
    "\n",
    "\n",
    "model=Sequential()\n",
    "model.add(pretrained_model)\n",
    "model.add(MaxPooling2D())\n",
    "model.add(Dropout(0.2))\n",
    "model.add(Flatten())\n",
    "model.add(Dense(1, activation='sigmoid'))\n",
    "\n",
    "model.compile(loss='binary_crossentropy',\n",
    "              optimizer='adam',\n",
    "              metrics=[metrics.AUC(), 'accuracy'])"
   ]
  },
  {
   "cell_type": "code",
   "execution_count": null,
   "metadata": {
    "ExecuteTime": {
     "end_time": "2020-11-26T13:23:48.002731Z",
     "start_time": "2020-11-26T13:08:08.073629Z"
    },
    "scrolled": false
   },
   "outputs": [
    {
     "name": "stdout",
     "output_type": "stream",
     "text": [
      "Epoch 1/30\n",
      "40/40 - 31s - loss: 2.6302 - auc: 0.5407 - accuracy: 0.5286 - val_loss: 0.8065 - val_auc: 0.7991 - val_accuracy: 0.4875\n",
      "Epoch 2/30\n",
      "40/40 - 29s - loss: 0.9715 - auc: 0.5528 - accuracy: 0.5349 - val_loss: 1.0716 - val_auc: 0.8470 - val_accuracy: 0.5188\n",
      "Epoch 3/30\n",
      "40/40 - 30s - loss: 0.8516 - auc: 0.6028 - accuracy: 0.5636 - val_loss: 0.6265 - val_auc: 0.8708 - val_accuracy: 0.6047\n",
      "Epoch 4/30\n",
      "40/40 - 28s - loss: 0.7223 - auc: 0.6694 - accuracy: 0.6187 - val_loss: 0.7610 - val_auc: 0.8881 - val_accuracy: 0.4875\n",
      "Epoch 5/30\n",
      "40/40 - 28s - loss: 0.7515 - auc: 0.6684 - accuracy: 0.6211 - val_loss: 0.6414 - val_auc: 0.9013 - val_accuracy: 0.5156\n",
      "Epoch 6/30\n",
      "40/40 - 29s - loss: 0.7992 - auc: 0.6737 - accuracy: 0.6243 - val_loss: 0.4761 - val_auc: 0.9102 - val_accuracy: 0.7828\n",
      "Epoch 7/30\n"
     ]
    }
   ],
   "source": [
    "es_callback = EarlyStopping(monitor='val_auc', mode='max', patience=8,\n",
    "                                              verbose=1, min_delta=0.0001, restore_best_weights=True)\n",
    "\n",
    "history = model.fit(train_generator,\n",
    "                    steps_per_epoch=train_generator.samples//batch_size,\n",
    "                    epochs = no_epochs,\n",
    "                    validation_data=valid_generator,\n",
    "                    validation_steps=valid_generator.samples//batch_size,\n",
    "                    callbacks= [es_callback],\n",
    "                    verbose=verbosity,\n",
    "                   )"
   ]
  },
  {
   "cell_type": "code",
   "execution_count": null,
   "metadata": {
    "ExecuteTime": {
     "end_time": "2020-11-26T13:23:52.228122Z",
     "start_time": "2020-11-26T13:23:48.004882Z"
    }
   },
   "outputs": [],
   "source": [
    "prediction = model.predict(valid_generator)"
   ]
  },
  {
   "cell_type": "code",
   "execution_count": null,
   "metadata": {
    "ExecuteTime": {
     "end_time": "2020-11-26T13:23:52.237962Z",
     "start_time": "2020-11-26T13:23:52.229972Z"
    }
   },
   "outputs": [],
   "source": [
    "import numpy as np\n",
    "\n",
    "print(len(prediction[np.where(prediction > 0.5)]))\n",
    "print(len(prediction[np.where(prediction < 0.5)]))"
   ]
  },
  {
   "cell_type": "code",
   "execution_count": null,
   "metadata": {
    "scrolled": false
   },
   "outputs": [],
   "source": [
    "prediction"
   ]
  },
  {
   "cell_type": "code",
   "execution_count": null,
   "metadata": {
    "scrolled": true
   },
   "outputs": [],
   "source": [
    "tf.__version__"
   ]
  },
  {
   "cell_type": "code",
   "execution_count": null,
   "metadata": {},
   "outputs": [],
   "source": [
    "model.evaluate(valid_generator)"
   ]
  },
  {
   "cell_type": "code",
   "execution_count": null,
   "metadata": {},
   "outputs": [],
   "source": []
  }
 ],
 "metadata": {
  "kernelspec": {
   "display_name": "Python [conda env:tensorflow2_p36] *",
   "language": "python",
   "name": "conda-env-tensorflow2_p36-py"
  },
  "language_info": {
   "codemirror_mode": {
    "name": "ipython",
    "version": 3
   },
   "file_extension": ".py",
   "mimetype": "text/x-python",
   "name": "python",
   "nbconvert_exporter": "python",
   "pygments_lexer": "ipython3",
   "version": "3.6.10"
  }
 },
 "nbformat": 4,
 "nbformat_minor": 2
}
