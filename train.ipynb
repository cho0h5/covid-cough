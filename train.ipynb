{
 "cells": [
  {
   "cell_type": "code",
   "execution_count": 1,
   "metadata": {
    "ExecuteTime": {
     "end_time": "2020-11-26T13:08:03.007427Z",
     "start_time": "2020-11-26T13:08:01.143982Z"
    }
   },
   "outputs": [],
   "source": [
    "from tensorflow.keras.layers import Dense, Input, MaxPooling2D, Dropout, Flatten\n",
    "from tensorflow.keras.models import Sequential\n",
    "from tensorflow.keras.applications import resnet\n",
    "from tensorflow.keras.preprocessing.image import ImageDataGenerator\n",
    "import tensorflow as tf\n",
    "from tensorflow.keras import metrics\n",
    "from tensorflow.keras.callbacks import EarlyStopping"
   ]
  },
  {
   "cell_type": "code",
   "execution_count": 2,
   "metadata": {
    "ExecuteTime": {
     "end_time": "2020-11-26T13:08:03.012473Z",
     "start_time": "2020-11-26T13:08:03.009450Z"
    }
   },
   "outputs": [],
   "source": [
    "batch_size = 64\n",
    "width, height, channel = 400, 400, 3\n",
    "no_epochs = 30\n",
    "verbosity = 2\n",
    "input_shape = (width, height, channel)"
   ]
  },
  {
   "cell_type": "code",
   "execution_count": 3,
   "metadata": {
    "ExecuteTime": {
     "end_time": "2020-11-26T13:08:07.491854Z",
     "start_time": "2020-11-26T13:08:03.014015Z"
    }
   },
   "outputs": [
    {
     "name": "stdout",
     "output_type": "stream",
     "text": [
      "Downloading data from https://storage.googleapis.com/keras-applications/efficientnetb7_notop.h5\n",
      "258080768/258076736 [==============================] - 38s 0us/step\n"
     ]
    }
   ],
   "source": [
    "# ResNet50 모델 사용\n",
    "\n",
    "pretrained_model = tf.keras.applications.EfficientNetB7(\n",
    "    include_top=False,\n",
    "    weights=\"imagenet\",\n",
    "    input_tensor=None,\n",
    "    input_shape=input_shape,\n",
    "    pooling=None,\n",
    "    classes=1000\n",
    ")"
   ]
  },
  {
   "cell_type": "code",
   "execution_count": 4,
   "metadata": {
    "ExecuteTime": {
     "end_time": "2020-11-26T13:08:08.071731Z",
     "start_time": "2020-11-26T13:08:07.493919Z"
    }
   },
   "outputs": [
    {
     "name": "stdout",
     "output_type": "stream",
     "text": [
      "Found 2603 images belonging to 2 classes.\n",
      "Found 386 images belonging to 2 classes.\n"
     ]
    }
   ],
   "source": [
    "train_datagen = ImageDataGenerator(rescale=1./255)\n",
    "train_generator = train_datagen.flow_from_directory('preprocessed_data/train',\n",
    "                                                    target_size=(400, 400),\n",
    "                                                    batch_size=batch_size,\n",
    "                                                    class_mode='binary')\n",
    "\n",
    "valid_datagen = ImageDataGenerator(rescale=1./255)\n",
    "valid_generator = valid_datagen.flow_from_directory('preprocessed_data/test',\n",
    "                                                    target_size=(400, 400),\n",
    "                                                    batch_size=batch_size,\n",
    "                                                    class_mode='binary')\n",
    "\n",
    "pretrained_model.trainable=True\n",
    "set_trainable=False\n",
    "\n",
    "for layer in pretrained_model.layers:\n",
    "    if layer.name == 'block7c_project_conv':\n",
    "        set_trainable=True\n",
    "    if set_trainable:\n",
    "        layer.trainable=True\n",
    "    else:\n",
    "        layer.trainable=False\n",
    "\n",
    "\n",
    "model=Sequential()\n",
    "model.add(pretrained_model)\n",
    "model.add(MaxPooling2D())\n",
    "model.add(Dropout(0.2))\n",
    "model.add(Flatten())\n",
    "model.add(Dense(1, activation='sigmoid'))\n",
    "\n",
    "model.compile(loss='binary_crossentropy',\n",
    "              optimizer='adam',\n",
    "              metrics=[metrics.AUC(), 'accuracy'])"
   ]
  },
  {
   "cell_type": "code",
   "execution_count": null,
   "metadata": {
    "ExecuteTime": {
     "end_time": "2020-11-26T13:23:48.002731Z",
     "start_time": "2020-11-26T13:08:08.073629Z"
    },
    "scrolled": false
   },
   "outputs": [
    {
     "name": "stdout",
     "output_type": "stream",
     "text": [
      "Epoch 1/30\n",
      "40/40 - 40s - loss: 2.3949 - auc: 0.4964 - accuracy: 0.4963 - val_loss: 0.7282 - val_auc: 0.5000 - val_accuracy: 0.1719\n",
      "Epoch 2/30\n",
      "40/40 - 34s - loss: 0.7218 - auc: 0.5094 - accuracy: 0.5116 - val_loss: 0.7842 - val_auc: 0.5356 - val_accuracy: 0.1719\n",
      "Epoch 3/30\n",
      "40/40 - 34s - loss: 0.7436 - auc: 0.4996 - accuracy: 0.4982 - val_loss: 0.9929 - val_auc: 0.5850 - val_accuracy: 0.1719\n",
      "Epoch 4/30\n",
      "40/40 - 33s - loss: 0.7494 - auc: 0.5176 - accuracy: 0.5163 - val_loss: 0.5188 - val_auc: 0.5619 - val_accuracy: 0.8281\n",
      "Epoch 5/30\n",
      "40/40 - 33s - loss: 0.7398 - auc: 0.5089 - accuracy: 0.5120 - val_loss: 0.9231 - val_auc: 0.5534 - val_accuracy: 0.1693\n",
      "Epoch 6/30\n",
      "40/40 - 33s - loss: 0.7881 - auc: 0.4978 - accuracy: 0.5041 - val_loss: 0.6919 - val_auc: 0.5000 - val_accuracy: 0.8047\n",
      "Epoch 7/30\n",
      "40/40 - 33s - loss: 0.7315 - auc: 0.5054 - accuracy: 0.5026 - val_loss: 0.6228 - val_auc: 0.5569 - val_accuracy: 0.8281\n",
      "Epoch 8/30\n",
      "40/40 - 33s - loss: 0.7303 - auc: 0.4992 - accuracy: 0.5045 - val_loss: 0.5350 - val_auc: 0.5550 - val_accuracy: 0.8281\n",
      "Epoch 9/30\n",
      "40/40 - 34s - loss: 0.7471 - auc: 0.4997 - accuracy: 0.4919 - val_loss: 1.0711 - val_auc: 0.5893 - val_accuracy: 0.1693\n",
      "Epoch 10/30\n",
      "40/40 - 33s - loss: 0.7265 - auc: 0.5253 - accuracy: 0.5073 - val_loss: 0.7144 - val_auc: 0.5537 - val_accuracy: 0.1693\n",
      "Epoch 11/30\n",
      "40/40 - 33s - loss: 0.7213 - auc: 0.5022 - accuracy: 0.5018 - val_loss: 0.5070 - val_auc: 0.5314 - val_accuracy: 0.8281\n",
      "Epoch 12/30\n",
      "40/40 - 34s - loss: 0.7522 - auc: 0.4809 - accuracy: 0.4867 - val_loss: 0.5234 - val_auc: 0.5911 - val_accuracy: 0.8281\n",
      "Epoch 13/30\n",
      "40/40 - 33s - loss: 0.7273 - auc: 0.4931 - accuracy: 0.4935 - val_loss: 0.7076 - val_auc: 0.5856 - val_accuracy: 0.1719\n",
      "Epoch 14/30\n"
     ]
    }
   ],
   "source": [
    "es_callback = EarlyStopping(monitor='val_auc', mode='max', patience=8,\n",
    "                                              verbose=1, min_delta=0.0001, restore_best_weights=True)\n",
    "\n",
    "history = model.fit(train_generator,\n",
    "                    steps_per_epoch=train_generator.samples//batch_size,\n",
    "                    epochs = no_epochs,\n",
    "                    validation_data=valid_generator,\n",
    "                    validation_steps=valid_generator.samples//batch_size,\n",
    "                    callbacks= [es_callback],\n",
    "                    verbose=verbosity,\n",
    "                   )"
   ]
  },
  {
   "cell_type": "code",
   "execution_count": null,
   "metadata": {
    "ExecuteTime": {
     "end_time": "2020-11-26T13:23:52.228122Z",
     "start_time": "2020-11-26T13:23:48.004882Z"
    }
   },
   "outputs": [],
   "source": [
    "prediction = model.predict(valid_generator)"
   ]
  },
  {
   "cell_type": "code",
   "execution_count": null,
   "metadata": {
    "ExecuteTime": {
     "end_time": "2020-11-26T13:23:52.237962Z",
     "start_time": "2020-11-26T13:23:52.229972Z"
    }
   },
   "outputs": [],
   "source": [
    "import numpy as np\n",
    "\n",
    "print(len(prediction[np.where(prediction > 0.5)]))\n",
    "print(len(prediction[np.where(prediction < 0.5)]))"
   ]
  },
  {
   "cell_type": "code",
   "execution_count": null,
   "metadata": {
    "scrolled": false
   },
   "outputs": [],
   "source": [
    "prediction"
   ]
  },
  {
   "cell_type": "code",
   "execution_count": null,
   "metadata": {
    "scrolled": true
   },
   "outputs": [],
   "source": [
    "tf.__version__"
   ]
  },
  {
   "cell_type": "code",
   "execution_count": null,
   "metadata": {},
   "outputs": [],
   "source": [
    "model.evaluate(valid_generator)"
   ]
  },
  {
   "cell_type": "code",
   "execution_count": null,
   "metadata": {},
   "outputs": [],
   "source": []
  }
 ],
 "metadata": {
  "kernelspec": {
   "display_name": "Python [conda env:tensorflow2_p36] *",
   "language": "python",
   "name": "conda-env-tensorflow2_p36-py"
  },
  "language_info": {
   "codemirror_mode": {
    "name": "ipython",
    "version": 3
   },
   "file_extension": ".py",
   "mimetype": "text/x-python",
   "name": "python",
   "nbconvert_exporter": "python",
   "pygments_lexer": "ipython3",
   "version": "3.6.10"
  }
 },
 "nbformat": 4,
 "nbformat_minor": 2
}
