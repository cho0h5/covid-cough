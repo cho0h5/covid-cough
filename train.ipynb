{
 "cells": [
  {
   "cell_type": "code",
   "execution_count": 1,
   "metadata": {
    "ExecuteTime": {
     "end_time": "2020-11-24T15:05:35.365652Z",
     "start_time": "2020-11-24T15:05:33.539559Z"
    }
   },
   "outputs": [],
   "source": [
    "from tensorflow.keras.layers import Dense, Input, MaxPooling2D, Dropout, Flatten\n",
    "from tensorflow.keras.models import Sequential\n",
    "from tensorflow.keras.applications import resnet\n",
    "from tensorflow.keras.preprocessing.image import ImageDataGenerator\n",
    "import tensorflow as tf\n",
    "from tensorflow.keras import metrics\n",
    "from tensorflow.keras.callbacks import EarlyStopping"
   ]
  },
  {
   "cell_type": "code",
   "execution_count": 2,
   "metadata": {
    "ExecuteTime": {
     "end_time": "2020-11-24T15:05:35.370259Z",
     "start_time": "2020-11-24T15:05:35.367487Z"
    }
   },
   "outputs": [],
   "source": [
    "batch_size = 64\n",
    "width, height, channel = 400, 400, 3\n",
    "no_epochs = 20\n",
    "verbosity = 1\n",
    "input_shape = (width, height, channel)"
   ]
  },
  {
   "cell_type": "code",
   "execution_count": 3,
   "metadata": {
    "ExecuteTime": {
     "end_time": "2020-11-24T15:05:39.597622Z",
     "start_time": "2020-11-24T15:05:35.371697Z"
    }
   },
   "outputs": [],
   "source": [
    "# ResNet50 모델 사용\n",
    "\n",
    "pretrained_model = tf.keras.applications.ResNet50(\n",
    "    include_top=False,\n",
    "    weights=\"imagenet\",\n",
    "    input_tensor=None,\n",
    "    input_shape=input_shape,\n",
    "    pooling=None,\n",
    "    classes=1000\n",
    ")"
   ]
  },
  {
   "cell_type": "code",
   "execution_count": 4,
   "metadata": {
    "ExecuteTime": {
     "end_time": "2020-11-24T15:05:40.768539Z",
     "start_time": "2020-11-24T15:05:39.599951Z"
    }
   },
   "outputs": [
    {
     "name": "stdout",
     "output_type": "stream",
     "text": [
      "Found 1547 images belonging to 2 classes.\n",
      "Found 387 images belonging to 2 classes.\n"
     ]
    }
   ],
   "source": [
    "train_datagen = ImageDataGenerator(rescale=1./255,\n",
    "                                   shear_range=0.2,\n",
    "                                   rotation_range=0.2,\n",
    "                                   width_shift_range=0.2,\n",
    "                                   height_shift_range=0.2,\n",
    "                                   zoom_range=0.2,\n",
    "                                   horizontal_flip=True,\n",
    "                                   vertical_flip=True,\n",
    "                                   fill_mode='nearest')\n",
    "train_generator = train_datagen.flow_from_directory('preprocessed_data/train',\n",
    "                                                    target_size=(400, 400),\n",
    "                                                    batch_size=batch_size,\n",
    "                                                    class_mode='binary')\n",
    "\n",
    "valid_datagen = ImageDataGenerator(rescale=1./255)\n",
    "valid_generator = valid_datagen.flow_from_directory('preprocessed_data/test',\n",
    "                                                    target_size=(400, 400),\n",
    "                                                    batch_size=batch_size,\n",
    "                                                    class_mode='binary')\n",
    "\n",
    "pretrained_model.trainable=True\n",
    "# set_trainable=False\n",
    "\n",
    "# for layer in pretrained_model.layers:\n",
    "#     if layer.name == 'block7c_project_conv':\n",
    "#         set_trainable=True\n",
    "#     if set_trainable:\n",
    "#         layer.trainable=True\n",
    "#     else:\n",
    "#         layer.trainable=False\n",
    "\n",
    "\n",
    "model=Sequential()\n",
    "model.add(pretrained_model)\n",
    "model.add(MaxPooling2D())\n",
    "model.add(Dropout(0.2))\n",
    "model.add(Flatten())\n",
    "model.add(Dense(1, activation='sigmoid'))\n",
    "\n",
    "model.compile(loss='binary_crossentropy',\n",
    "              optimizer='adam',\n",
    "              metrics=[metrics.AUC(name='auc'), 'accuracy'])"
   ]
  },
  {
   "cell_type": "code",
   "execution_count": 5,
   "metadata": {
    "ExecuteTime": {
     "end_time": "2020-11-24T15:14:34.913348Z",
     "start_time": "2020-11-24T15:05:40.770456Z"
    }
   },
   "outputs": [
    {
     "name": "stdout",
     "output_type": "stream",
     "text": [
      "Epoch 1/20\n",
      " 2/24 [=>............................] - ETA: 6s - loss: 7.7373 - auc: 0.4883 - accuracy: 0.6328WARNING:tensorflow:Callbacks method `on_train_batch_end` is slow compared to the batch time (batch time: 0.2410s vs `on_train_batch_end` time: 0.3805s). Check your callbacks.\n",
      "24/24 [==============================] - 55s 2s/step - loss: 1.5825 - auc: 0.6053 - accuracy: 0.7856 - val_loss: 321350.5938 - val_auc: 0.5000 - val_accuracy: 0.8281\n",
      "Epoch 2/20\n",
      "24/24 [==============================] - 55s 2s/step - loss: 0.4504 - auc: 0.6708 - accuracy: 0.8247 - val_loss: 6032.1890 - val_auc: 0.5000 - val_accuracy: 0.8307\n",
      "Epoch 3/20\n",
      "24/24 [==============================] - 55s 2s/step - loss: 0.4333 - auc: 0.6847 - accuracy: 0.8233 - val_loss: 0.6360 - val_auc: 0.4101 - val_accuracy: 0.8307\n",
      "Epoch 4/20\n",
      "24/24 [==============================] - 55s 2s/step - loss: 0.3787 - auc: 0.7900 - accuracy: 0.8260 - val_loss: 0.6871 - val_auc: 0.5000 - val_accuracy: 0.8281\n",
      "Epoch 5/20\n",
      "24/24 [==============================] - 55s 2s/step - loss: 0.3652 - auc: 0.8269 - accuracy: 0.8274 - val_loss: 0.6875 - val_auc: 0.5000 - val_accuracy: 0.8307\n",
      "Epoch 6/20\n",
      "24/24 [==============================] - 55s 2s/step - loss: 0.3635 - auc: 0.8164 - accuracy: 0.8227 - val_loss: 0.6881 - val_auc: 0.5000 - val_accuracy: 0.8307\n",
      "Epoch 7/20\n",
      "24/24 [==============================] - 55s 2s/step - loss: 0.3576 - auc: 0.8248 - accuracy: 0.8260 - val_loss: 0.6879 - val_auc: 0.5000 - val_accuracy: 0.8281\n",
      "Epoch 8/20\n",
      "24/24 [==============================] - 55s 2s/step - loss: 0.3652 - auc: 0.8581 - accuracy: 0.8314 - val_loss: 0.6873 - val_auc: 0.5000 - val_accuracy: 0.8281\n",
      "Epoch 9/20\n",
      "24/24 [==============================] - ETA: 0s - loss: 0.3708 - auc: 0.7914 - accuracy: 0.8307Restoring model weights from the end of the best epoch.\n",
      "24/24 [==============================] - 56s 2s/step - loss: 0.3708 - auc: 0.7914 - accuracy: 0.8307 - val_loss: 0.6865 - val_auc: 0.5000 - val_accuracy: 0.8307\n",
      "Epoch 00009: early stopping\n"
     ]
    }
   ],
   "source": [
    "es_callback = EarlyStopping(monitor='val_auc', mode='max', patience=8,\n",
    "                                              verbose=1, min_delta=0.0001, restore_best_weights=True)\n",
    "\n",
    "history = model.fit(train_generator,\n",
    "                    steps_per_epoch=train_generator.samples//batch_size,\n",
    "                    epochs = no_epochs,\n",
    "                    validation_data=valid_generator,\n",
    "                    validation_steps=valid_generator.samples//batch_size,\n",
    "                    callbacks= [es_callback],\n",
    "                    verbose=verbosity)"
   ]
  }
 ],
 "metadata": {
  "kernelspec": {
   "display_name": "Python [conda env:tensorflow2_p36] *",
   "language": "python",
   "name": "conda-env-tensorflow2_p36-py"
  },
  "language_info": {
   "codemirror_mode": {
    "name": "ipython",
    "version": 3
   },
   "file_extension": ".py",
   "mimetype": "text/x-python",
   "name": "python",
   "nbconvert_exporter": "python",
   "pygments_lexer": "ipython3",
   "version": "3.6.10"
  }
 },
 "nbformat": 4,
 "nbformat_minor": 2
}
