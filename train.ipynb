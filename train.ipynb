{
 "cells": [
  {
   "cell_type": "code",
   "execution_count": 1,
   "metadata": {
    "ExecuteTime": {
     "end_time": "2020-11-26T13:08:03.007427Z",
     "start_time": "2020-11-26T13:08:01.143982Z"
    }
   },
   "outputs": [],
   "source": [
    "from tensorflow.keras.layers import Dense, Input, MaxPooling2D, Dropout, Flatten\n",
    "from tensorflow.keras.models import Sequential\n",
    "from tensorflow.keras.applications import resnet\n",
    "from tensorflow.keras.preprocessing.image import ImageDataGenerator\n",
    "import tensorflow as tf\n",
    "from tensorflow.keras import metrics\n",
    "from tensorflow.keras.callbacks import EarlyStopping"
   ]
  },
  {
   "cell_type": "code",
   "execution_count": 2,
   "metadata": {
    "ExecuteTime": {
     "end_time": "2020-11-26T13:08:03.012473Z",
     "start_time": "2020-11-26T13:08:03.009450Z"
    }
   },
   "outputs": [],
   "source": [
    "batch_size = 64\n",
    "width, height, channel = 400, 400, 3\n",
    "no_epochs = 7\n",
    "verbosity = 2\n",
    "input_shape = (width, height, channel)"
   ]
  },
  {
   "cell_type": "code",
   "execution_count": 3,
   "metadata": {
    "ExecuteTime": {
     "end_time": "2020-11-26T13:08:07.491854Z",
     "start_time": "2020-11-26T13:08:03.014015Z"
    }
   },
   "outputs": [],
   "source": [
    "pretrained_model = tf.keras.applications.Xception(\n",
    "    include_top=False,\n",
    "    weights=\"imagenet\",\n",
    "    input_tensor=None,\n",
    "    input_shape=input_shape,\n",
    "    pooling=None,\n",
    "    classes=1000\n",
    ")"
   ]
  },
  {
   "cell_type": "code",
   "execution_count": 4,
   "metadata": {
    "ExecuteTime": {
     "end_time": "2020-11-26T13:08:08.071731Z",
     "start_time": "2020-11-26T13:08:07.493919Z"
    }
   },
   "outputs": [
    {
     "name": "stdout",
     "output_type": "stream",
     "text": [
      "Found 2603 images belonging to 2 classes.\n"
     ]
    }
   ],
   "source": [
    "train_datagen = ImageDataGenerator(rescale=1./255)\n",
    "train_generator = train_datagen.flow_from_directory('preprocessed_data/train',\n",
    "                                                    target_size=(400, 400),\n",
    "                                                    batch_size=batch_size,\n",
    "                                                    class_mode='binary')\n",
    "\n",
    "\n",
    "pretrained_model.trainable=True\n",
    "set_trainable=False\n",
    "\n",
    "for layer in pretrained_model.layers:\n",
    "    if layer.name == 'block7c_project_conv':\n",
    "        set_trainable=True\n",
    "    if set_trainable:\n",
    "        layer.trainable=True\n",
    "    else:\n",
    "        layer.trainable=False\n",
    "\n",
    "\n",
    "model=Sequential()\n",
    "model.add(pretrained_model)\n",
    "model.add(MaxPooling2D())\n",
    "model.add(Dropout(0.2))\n",
    "model.add(Flatten())\n",
    "model.add(Dense(1, activation='sigmoid'))\n",
    "\n",
    "model.compile(loss='binary_crossentropy',\n",
    "              optimizer='adam',\n",
    "              metrics=[metrics.AUC(), 'accuracy'])"
   ]
  },
  {
   "cell_type": "code",
   "execution_count": 5,
   "metadata": {
    "ExecuteTime": {
     "end_time": "2020-11-26T13:23:48.002731Z",
     "start_time": "2020-11-26T13:08:08.073629Z"
    },
    "scrolled": false
   },
   "outputs": [
    {
     "name": "stdout",
     "output_type": "stream",
     "text": [
      "Epoch 1/7\n",
      "40/40 - 22s - loss: 0.7404 - auc: 0.8527 - accuracy: 0.7790\n",
      "Epoch 2/7\n",
      "40/40 - 22s - loss: 0.1043 - auc: 0.9929 - accuracy: 0.9622\n",
      "Epoch 3/7\n",
      "40/40 - 22s - loss: 0.0447 - auc: 0.9998 - accuracy: 0.9921\n",
      "Epoch 4/7\n",
      "40/40 - 22s - loss: 0.0323 - auc: 1.0000 - accuracy: 0.9972\n",
      "Epoch 5/7\n",
      "40/40 - 23s - loss: 0.0221 - auc: 1.0000 - accuracy: 0.9992\n",
      "Epoch 6/7\n",
      "40/40 - 22s - loss: 0.0168 - auc: 1.0000 - accuracy: 1.0000\n",
      "Epoch 7/7\n",
      "40/40 - 23s - loss: 0.0128 - auc: 1.0000 - accuracy: 1.0000\n"
     ]
    }
   ],
   "source": [
    "history = model.fit(train_generator,\n",
    "                    steps_per_epoch=train_generator.samples//batch_size,\n",
    "                    epochs = no_epochs,\n",
    "                    verbose=verbosity,\n",
    "                   )"
   ]
  },
  {
   "cell_type": "code",
   "execution_count": null,
   "metadata": {},
   "outputs": [],
   "source": [
    "model.evaluate(valid_generator)"
   ]
  },
  {
   "cell_type": "code",
   "execution_count": 6,
   "metadata": {
    "ExecuteTime": {
     "end_time": "2020-11-26T13:23:52.228122Z",
     "start_time": "2020-11-26T13:23:48.004882Z"
    }
   },
   "outputs": [
    {
     "name": "stdout",
     "output_type": "stream",
     "text": [
      "Found 650 images belonging to 2 classes.\n"
     ]
    }
   ],
   "source": [
    "valid_datagen = ImageDataGenerator(rescale=1./255)\n",
    "valid_generator = valid_datagen.flow_from_directory('preprocessed_data/test',\n",
    "                                                    target_size=(400, 400),\n",
    "                                                    batch_size=batch_size,\n",
    "                                                    class_mode='binary')\n",
    "\n",
    "prediction = model.predict(valid_generator)"
   ]
  },
  {
   "cell_type": "code",
   "execution_count": 7,
   "metadata": {
    "ExecuteTime": {
     "end_time": "2020-11-26T13:23:52.237962Z",
     "start_time": "2020-11-26T13:23:52.229972Z"
    }
   },
   "outputs": [
    {
     "name": "stdout",
     "output_type": "stream",
     "text": [
      "320\n",
      "330\n"
     ]
    }
   ],
   "source": [
    "import numpy as np\n",
    "\n",
    "print(len(prediction[np.where(prediction > 0.5)]))\n",
    "print(len(prediction[np.where(prediction < 0.5)]))"
   ]
  }
 ],
 "metadata": {
  "kernelspec": {
   "display_name": "Python [conda env:tensorflow2_p36] *",
   "language": "python",
   "name": "conda-env-tensorflow2_p36-py"
  },
  "language_info": {
   "codemirror_mode": {
    "name": "ipython",
    "version": 3
   },
   "file_extension": ".py",
   "mimetype": "text/x-python",
   "name": "python",
   "nbconvert_exporter": "python",
   "pygments_lexer": "ipython3",
   "version": "3.6.10"
  },
  "varInspector": {
   "cols": {
    "lenName": 16,
    "lenType": 16,
    "lenVar": 40
   },
   "kernels_config": {
    "python": {
     "delete_cmd_postfix": "",
     "delete_cmd_prefix": "del ",
     "library": "var_list.py",
     "varRefreshCmd": "print(var_dic_list())"
    },
    "r": {
     "delete_cmd_postfix": ") ",
     "delete_cmd_prefix": "rm(",
     "library": "var_list.r",
     "varRefreshCmd": "cat(var_dic_list()) "
    }
   },
   "types_to_exclude": [
    "module",
    "function",
    "builtin_function_or_method",
    "instance",
    "_Feature"
   ],
   "window_display": false
  }
 },
 "nbformat": 4,
 "nbformat_minor": 2
}
