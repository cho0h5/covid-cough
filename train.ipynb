{
 "cells": [
  {
   "cell_type": "code",
   "execution_count": 1,
   "metadata": {
    "ExecuteTime": {
     "end_time": "2020-11-26T13:08:03.007427Z",
     "start_time": "2020-11-26T13:08:01.143982Z"
    }
   },
   "outputs": [],
   "source": [
    "from tensorflow.keras.layers import Dense, Input, MaxPooling2D, Dropout, Flatten\n",
    "from tensorflow.keras.models import Sequential\n",
    "from tensorflow.keras.applications import resnet\n",
    "from tensorflow.keras.preprocessing.image import ImageDataGenerator\n",
    "import tensorflow as tf\n",
    "from tensorflow.keras import metrics\n",
    "from tensorflow.keras.callbacks import EarlyStopping"
   ]
  },
  {
   "cell_type": "code",
   "execution_count": 2,
   "metadata": {
    "ExecuteTime": {
     "end_time": "2020-11-26T13:08:03.012473Z",
     "start_time": "2020-11-26T13:08:03.009450Z"
    }
   },
   "outputs": [],
   "source": [
    "batch_size = 64\n",
    "width, height, channel = 400, 400, 3\n",
    "no_epochs = 20\n",
    "verbosity = 1\n",
    "input_shape = (width, height, channel)"
   ]
  },
  {
   "cell_type": "code",
   "execution_count": 3,
   "metadata": {
    "ExecuteTime": {
     "end_time": "2020-11-26T13:08:07.491854Z",
     "start_time": "2020-11-26T13:08:03.014015Z"
    }
   },
   "outputs": [],
   "source": [
    "# ResNet50 모델 사용\n",
    "\n",
    "pretrained_model = tf.keras.applications.ResNet50(\n",
    "    include_top=False,\n",
    "    weights=\"imagenet\",\n",
    "    input_tensor=None,\n",
    "    input_shape=input_shape,\n",
    "    pooling=None,\n",
    "    classes=1000\n",
    ")"
   ]
  },
  {
   "cell_type": "code",
   "execution_count": 4,
   "metadata": {
    "ExecuteTime": {
     "end_time": "2020-11-26T13:08:08.071731Z",
     "start_time": "2020-11-26T13:08:07.493919Z"
    }
   },
   "outputs": [
    {
     "name": "stdout",
     "output_type": "stream",
     "text": [
      "Found 1547 images belonging to 2 classes.\n",
      "Found 387 images belonging to 2 classes.\n"
     ]
    }
   ],
   "source": [
    "train_datagen = ImageDataGenerator(rescale=1./255,\n",
    "                                   shear_range=0.2,\n",
    "                                   rotation_range=0.2,\n",
    "                                   width_shift_range=0.2,\n",
    "                                   height_shift_range=0.2,\n",
    "                                   zoom_range=0.2,\n",
    "                                   horizontal_flip=True,\n",
    "                                   vertical_flip=True,\n",
    "                                   fill_mode='nearest')\n",
    "train_generator = train_datagen.flow_from_directory('preprocessed_data/train',\n",
    "                                                    target_size=(400, 400),\n",
    "                                                    batch_size=batch_size,\n",
    "                                                    class_mode='binary')\n",
    "\n",
    "valid_datagen = ImageDataGenerator(rescale=1./255)\n",
    "valid_generator = valid_datagen.flow_from_directory('preprocessed_data/test',\n",
    "                                                    target_size=(400, 400),\n",
    "                                                    batch_size=batch_size,\n",
    "                                                    class_mode='binary')\n",
    "\n",
    "pretrained_model.trainable=True\n",
    "set_trainable=False\n",
    "\n",
    "for layer in pretrained_model.layers:\n",
    "    if layer.name == 'block7c_project_conv':\n",
    "        set_trainable=True\n",
    "    if set_trainable:\n",
    "        layer.trainable=True\n",
    "    else:\n",
    "        layer.trainable=False\n",
    "\n",
    "\n",
    "model=Sequential()\n",
    "model.add(pretrained_model)\n",
    "model.add(MaxPooling2D())\n",
    "model.add(Dropout(0.2))\n",
    "model.add(Flatten())\n",
    "model.add(Dense(1, activation='sigmoid'))\n",
    "\n",
    "model.compile(loss='binary_crossentropy',\n",
    "              optimizer='adam',\n",
    "              metrics=[metrics.AUC(), 'accuracy'])"
   ]
  },
  {
   "cell_type": "code",
   "execution_count": 5,
   "metadata": {
    "ExecuteTime": {
     "end_time": "2020-11-26T13:23:48.002731Z",
     "start_time": "2020-11-26T13:08:08.073629Z"
    },
    "scrolled": true
   },
   "outputs": [
    {
     "name": "stdout",
     "output_type": "stream",
     "text": [
      "Epoch 1/20\n",
      "24/24 [==============================] - 56s 2s/step - loss: 1.6661 - auc: 0.5526 - accuracy: 0.7485 - val_loss: 0.7886 - val_auc: 0.5915 - val_accuracy: 0.1823\n",
      "Epoch 2/20\n",
      "24/24 [==============================] - 56s 2s/step - loss: 0.9227 - auc: 0.5188 - accuracy: 0.7141 - val_loss: 0.9702 - val_auc: 0.5000 - val_accuracy: 0.8281\n",
      "Epoch 3/20\n",
      "24/24 [==============================] - 55s 2s/step - loss: 0.8161 - auc: 0.5085 - accuracy: 0.7262 - val_loss: 0.8073 - val_auc: 0.6431 - val_accuracy: 0.8281\n",
      "Epoch 4/20\n",
      "24/24 [==============================] - 56s 2s/step - loss: 0.7047 - auc: 0.4963 - accuracy: 0.7660 - val_loss: 0.5706 - val_auc: 0.6727 - val_accuracy: 0.8281\n",
      "Epoch 5/20\n",
      "24/24 [==============================] - 57s 2s/step - loss: 0.6751 - auc: 0.4894 - accuracy: 0.7480 - val_loss: 0.6215 - val_auc: 0.6634 - val_accuracy: 0.8281\n",
      "Epoch 6/20\n",
      "24/24 [==============================] - 57s 2s/step - loss: 0.7376 - auc: 0.5059 - accuracy: 0.7507 - val_loss: 0.5133 - val_auc: 0.7123 - val_accuracy: 0.8307\n",
      "Epoch 7/20\n",
      "24/24 [==============================] - 55s 2s/step - loss: 0.5732 - auc: 0.5355 - accuracy: 0.7788 - val_loss: 0.5396 - val_auc: 0.7162 - val_accuracy: 0.8307\n",
      "Epoch 8/20\n",
      "24/24 [==============================] - 55s 2s/step - loss: 0.5665 - auc: 0.5526 - accuracy: 0.7849 - val_loss: 0.4549 - val_auc: 0.7318 - val_accuracy: 0.8281\n",
      "Epoch 9/20\n",
      "24/24 [==============================] - 57s 2s/step - loss: 0.5659 - auc: 0.5744 - accuracy: 0.7897 - val_loss: 0.4327 - val_auc: 0.7133 - val_accuracy: 0.8307\n",
      "Epoch 10/20\n",
      "24/24 [==============================] - 55s 2s/step - loss: 0.5456 - auc: 0.5533 - accuracy: 0.7755 - val_loss: 0.4773 - val_auc: 0.7259 - val_accuracy: 0.8307\n",
      "Epoch 11/20\n",
      "24/24 [==============================] - 55s 2s/step - loss: 0.7835 - auc: 0.4960 - accuracy: 0.7370 - val_loss: 0.6202 - val_auc: 0.6982 - val_accuracy: 0.8281\n",
      "Epoch 12/20\n",
      "24/24 [==============================] - 55s 2s/step - loss: 0.6732 - auc: 0.5212 - accuracy: 0.7552 - val_loss: 0.4436 - val_auc: 0.7035 - val_accuracy: 0.8281\n",
      "Epoch 13/20\n",
      "24/24 [==============================] - 55s 2s/step - loss: 0.5613 - auc: 0.5654 - accuracy: 0.7889 - val_loss: 0.5378 - val_auc: 0.7317 - val_accuracy: 0.8229\n",
      "Epoch 14/20\n",
      "24/24 [==============================] - 55s 2s/step - loss: 0.5738 - auc: 0.5601 - accuracy: 0.7788 - val_loss: 1.0423 - val_auc: 0.4984 - val_accuracy: 0.8281\n",
      "Epoch 15/20\n",
      "24/24 [==============================] - 55s 2s/step - loss: 0.8552 - auc: 0.5115 - accuracy: 0.7269 - val_loss: 0.4830 - val_auc: 0.7159 - val_accuracy: 0.8333\n",
      "Epoch 16/20\n",
      "24/24 [==============================] - ETA: 0s - loss: 0.6456 - auc: 0.5653 - accuracy: 0.7647Restoring model weights from the end of the best epoch.\n",
      "24/24 [==============================] - 55s 2s/step - loss: 0.6456 - auc: 0.5653 - accuracy: 0.7647 - val_loss: 0.4320 - val_auc: 0.7290 - val_accuracy: 0.8281\n",
      "Epoch 00016: early stopping\n"
     ]
    }
   ],
   "source": [
    "es_callback = EarlyStopping(monitor='val_auc', mode='max', patience=8,\n",
    "                                              verbose=1, min_delta=0.0001, restore_best_weights=True)\n",
    "\n",
    "history = model.fit(train_generator,\n",
    "                    steps_per_epoch=train_generator.samples//batch_size,\n",
    "                    epochs = no_epochs,\n",
    "                    validation_data=valid_generator,\n",
    "                    validation_steps=valid_generator.samples//batch_size,\n",
    "                    callbacks= [es_callback],\n",
    "                    verbose=verbosity,\n",
    "                   )"
   ]
  },
  {
   "cell_type": "code",
   "execution_count": 6,
   "metadata": {
    "ExecuteTime": {
     "end_time": "2020-11-26T13:23:52.228122Z",
     "start_time": "2020-11-26T13:23:48.004882Z"
    }
   },
   "outputs": [],
   "source": [
    "prediction = model.predict(valid_generator)"
   ]
  },
  {
   "cell_type": "code",
   "execution_count": 7,
   "metadata": {
    "ExecuteTime": {
     "end_time": "2020-11-26T13:23:52.237962Z",
     "start_time": "2020-11-26T13:23:52.229972Z"
    }
   },
   "outputs": [
    {
     "name": "stdout",
     "output_type": "stream",
     "text": [
      "387\n",
      "0\n"
     ]
    }
   ],
   "source": [
    "import numpy as np\n",
    "\n",
    "print(len(prediction[np.where(prediction > 0.5)]))\n",
    "print(len(prediction[np.where(prediction < 0.5)]))"
   ]
  },
  {
   "cell_type": "code",
   "execution_count": null,
   "metadata": {},
   "outputs": [],
   "source": []
  }
 ],
 "metadata": {
  "kernelspec": {
   "display_name": "Python [conda env:tensorflow2_p36] *",
   "language": "python",
   "name": "conda-env-tensorflow2_p36-py"
  },
  "language_info": {
   "codemirror_mode": {
    "name": "ipython",
    "version": 3
   },
   "file_extension": ".py",
   "mimetype": "text/x-python",
   "name": "python",
   "nbconvert_exporter": "python",
   "pygments_lexer": "ipython3",
   "version": "3.6.10"
  }
 },
 "nbformat": 4,
 "nbformat_minor": 2
}
