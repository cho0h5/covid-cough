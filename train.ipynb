{
 "cells": [
  {
   "cell_type": "code",
   "execution_count": 1,
   "metadata": {
    "ExecuteTime": {
     "end_time": "2020-11-26T13:08:03.007427Z",
     "start_time": "2020-11-26T13:08:01.143982Z"
    }
   },
   "outputs": [],
   "source": [
    "from tensorflow.keras.layers import Dense, Input, MaxPooling2D, Dropout, Flatten\n",
    "from tensorflow.keras.models import Sequential\n",
    "from tensorflow.keras.applications import resnet\n",
    "from tensorflow.keras.preprocessing.image import ImageDataGenerator\n",
    "import tensorflow as tf\n",
    "from tensorflow.keras import metrics\n",
    "from tensorflow.keras.callbacks import EarlyStopping"
   ]
  },
  {
   "cell_type": "code",
   "execution_count": 2,
   "metadata": {
    "ExecuteTime": {
     "end_time": "2020-11-26T13:08:03.012473Z",
     "start_time": "2020-11-26T13:08:03.009450Z"
    }
   },
   "outputs": [],
   "source": [
    "batch_size = 64\n",
    "width, height, channel = 400, 400, 3\n",
    "no_epochs = 10\n",
    "verbosity = 2\n",
    "input_shape = (width, height, channel)"
   ]
  },
  {
   "cell_type": "code",
   "execution_count": 3,
   "metadata": {
    "ExecuteTime": {
     "end_time": "2020-11-26T13:08:07.491854Z",
     "start_time": "2020-11-26T13:08:03.014015Z"
    }
   },
   "outputs": [],
   "source": [
    "# ResNet50 모델 사용\n",
    "\n",
    "pretrained_model = tf.keras.applications.VGG16(\n",
    "    include_top=False,\n",
    "    weights=\"imagenet\",\n",
    "    input_tensor=None,\n",
    "    input_shape=input_shape,\n",
    "    pooling=None,\n",
    "    classes=1000\n",
    ")"
   ]
  },
  {
   "cell_type": "code",
   "execution_count": 5,
   "metadata": {
    "ExecuteTime": {
     "end_time": "2020-11-26T13:08:08.071731Z",
     "start_time": "2020-11-26T13:08:07.493919Z"
    }
   },
   "outputs": [
    {
     "name": "stdout",
     "output_type": "stream",
     "text": [
      "Found 2603 images belonging to 2 classes.\n",
      "Found 650 images belonging to 2 classes.\n"
     ]
    }
   ],
   "source": [
    "train_datagen = ImageDataGenerator(rescale=1./255)\n",
    "train_generator = train_datagen.flow_from_directory('preprocessed_data/train',\n",
    "                                                    target_size=(400, 400),\n",
    "                                                    batch_size=batch_size,\n",
    "                                                    class_mode='binary')\n",
    "\n",
    "valid_datagen = ImageDataGenerator(rescale=1./255)\n",
    "valid_generator = valid_datagen.flow_from_directory('preprocessed_data/test',\n",
    "                                                    target_size=(400, 400),\n",
    "                                                    batch_size=batch_size,\n",
    "                                                    class_mode='binary')\n",
    "\n",
    "# pretrained_model.trainable=True\n",
    "# set_trainable=False\n",
    "\n",
    "# for layer in pretrained_model.layers:\n",
    "#     if layer.name == 'block7c_project_conv':\n",
    "#         set_trainable=True\n",
    "#     if set_trainable:\n",
    "#         layer.trainable=True\n",
    "#     else:\n",
    "#         layer.trainable=False\n",
    "\n",
    "\n",
    "model=Sequential()\n",
    "    \n",
    "# model.add(pretrained_model)\n",
    "\n",
    "for layer in pretrained_model.layers[:-1]: # just exclude last layer from copying\n",
    "    model.add(layer)\n",
    "    \n",
    "for layer in model.layers:\n",
    "    layer.trainable = False\n",
    "\n",
    "model.add(tf.keras.layers.Conv2D(filters=1024, kernel_size=(3, 3), padding='same', activation='relu'))\n",
    "model.add(tf.keras.layers.GlobalAveragePooling2D())\n",
    "# model.add(tf.keras.layers.Dense(1, activation='softmax'))\n",
    "\n",
    "# model.add(MaxPooling2D())\n",
    "# model.add(Dropout(0.2))\n",
    "# model.add(Flatten())\n",
    "model.add(Dense(1, activation='sigmoid'))\n",
    "\n",
    "model.compile(loss='binary_crossentropy',\n",
    "              optimizer='adam',\n",
    "              metrics=[metrics.AUC(), 'accuracy'])"
   ]
  },
  {
   "cell_type": "code",
   "execution_count": 6,
   "metadata": {},
   "outputs": [
    {
     "name": "stdout",
     "output_type": "stream",
     "text": [
      "Model: \"sequential_1\"\n",
      "_________________________________________________________________\n",
      "Layer (type)                 Output Shape              Param #   \n",
      "=================================================================\n",
      "block1_conv1 (Conv2D)        (None, 400, 400, 64)      1792      \n",
      "_________________________________________________________________\n",
      "block1_conv2 (Conv2D)        (None, 400, 400, 64)      36928     \n",
      "_________________________________________________________________\n",
      "block1_pool (MaxPooling2D)   (None, 200, 200, 64)      0         \n",
      "_________________________________________________________________\n",
      "block2_conv1 (Conv2D)        (None, 200, 200, 128)     73856     \n",
      "_________________________________________________________________\n",
      "block2_conv2 (Conv2D)        (None, 200, 200, 128)     147584    \n",
      "_________________________________________________________________\n",
      "block2_pool (MaxPooling2D)   (None, 100, 100, 128)     0         \n",
      "_________________________________________________________________\n",
      "block3_conv1 (Conv2D)        (None, 100, 100, 256)     295168    \n",
      "_________________________________________________________________\n",
      "block3_conv2 (Conv2D)        (None, 100, 100, 256)     590080    \n",
      "_________________________________________________________________\n",
      "block3_conv3 (Conv2D)        (None, 100, 100, 256)     590080    \n",
      "_________________________________________________________________\n",
      "block3_pool (MaxPooling2D)   (None, 50, 50, 256)       0         \n",
      "_________________________________________________________________\n",
      "block4_conv1 (Conv2D)        (None, 50, 50, 512)       1180160   \n",
      "_________________________________________________________________\n",
      "block4_conv2 (Conv2D)        (None, 50, 50, 512)       2359808   \n",
      "_________________________________________________________________\n",
      "block4_conv3 (Conv2D)        (None, 50, 50, 512)       2359808   \n",
      "_________________________________________________________________\n",
      "block4_pool (MaxPooling2D)   (None, 25, 25, 512)       0         \n",
      "_________________________________________________________________\n",
      "block5_conv1 (Conv2D)        (None, 25, 25, 512)       2359808   \n",
      "_________________________________________________________________\n",
      "block5_conv2 (Conv2D)        (None, 25, 25, 512)       2359808   \n",
      "_________________________________________________________________\n",
      "block5_conv3 (Conv2D)        (None, 25, 25, 512)       2359808   \n",
      "_________________________________________________________________\n",
      "conv2d (Conv2D)              (None, 25, 25, 1024)      4719616   \n",
      "_________________________________________________________________\n",
      "global_average_pooling2d (Gl (None, 1024)              0         \n",
      "_________________________________________________________________\n",
      "dense (Dense)                (None, 1)                 1025      \n",
      "=================================================================\n",
      "Total params: 19,435,329\n",
      "Trainable params: 4,720,641\n",
      "Non-trainable params: 14,714,688\n",
      "_________________________________________________________________\n"
     ]
    }
   ],
   "source": [
    "model.summary()"
   ]
  },
  {
   "cell_type": "code",
   "execution_count": null,
   "metadata": {
    "ExecuteTime": {
     "end_time": "2020-11-26T13:23:48.002731Z",
     "start_time": "2020-11-26T13:08:08.073629Z"
    },
    "scrolled": true
   },
   "outputs": [
    {
     "name": "stdout",
     "output_type": "stream",
     "text": [
      "Epoch 1/10\n",
      "40/40 - 31s - loss: 0.7190 - auc: 0.6357 - accuracy: 0.5825 - val_loss: 0.5540 - val_auc: 0.8529 - val_accuracy: 0.7891\n",
      "Epoch 2/10\n",
      "40/40 - 28s - loss: 0.5231 - auc: 0.8274 - accuracy: 0.7495 - val_loss: 0.4680 - val_auc: 0.8859 - val_accuracy: 0.8203\n",
      "Epoch 3/10\n",
      "40/40 - 28s - loss: 0.4471 - auc: 0.8826 - accuracy: 0.8109 - val_loss: 0.4011 - val_auc: 0.9158 - val_accuracy: 0.8531\n",
      "Epoch 4/10\n",
      "40/40 - 29s - loss: 0.4037 - auc: 0.9026 - accuracy: 0.8267 - val_loss: 0.3592 - val_auc: 0.9336 - val_accuracy: 0.8578\n",
      "Epoch 5/10\n",
      "40/40 - 29s - loss: 0.3660 - auc: 0.9180 - accuracy: 0.8432 - val_loss: 0.3331 - val_auc: 0.9438 - val_accuracy: 0.8594\n",
      "Epoch 6/10\n",
      "40/40 - 29s - loss: 0.3555 - auc: 0.9200 - accuracy: 0.8444 - val_loss: 0.3009 - val_auc: 0.9509 - val_accuracy: 0.8875\n",
      "Epoch 7/10\n",
      "40/40 - 29s - loss: 0.3385 - auc: 0.9268 - accuracy: 0.8456 - val_loss: 0.2920 - val_auc: 0.9533 - val_accuracy: 0.8828\n",
      "Epoch 8/10\n",
      "40/40 - 28s - loss: 0.2946 - auc: 0.9483 - accuracy: 0.8748 - val_loss: 0.2634 - val_auc: 0.9621 - val_accuracy: 0.9000\n",
      "Epoch 9/10\n"
     ]
    }
   ],
   "source": [
    "es_callback = EarlyStopping(monitor='val_auc', mode='max', patience=8,\n",
    "                                              verbose=1, min_delta=0.0001, restore_best_weights=True)\n",
    "\n",
    "history = model.fit(train_generator,\n",
    "                    steps_per_epoch=train_generator.samples//batch_size,\n",
    "                    epochs = no_epochs,\n",
    "                    validation_data=valid_generator,\n",
    "                    validation_steps=valid_generator.samples//batch_size,\n",
    "                    callbacks= [es_callback],\n",
    "                    verbose=verbosity,\n",
    "                   )"
   ]
  },
  {
   "cell_type": "code",
   "execution_count": null,
   "metadata": {
    "ExecuteTime": {
     "end_time": "2020-11-26T13:23:52.228122Z",
     "start_time": "2020-11-26T13:23:48.004882Z"
    }
   },
   "outputs": [],
   "source": [
    "prediction = model.predict(valid_generator)"
   ]
  },
  {
   "cell_type": "code",
   "execution_count": null,
   "metadata": {
    "ExecuteTime": {
     "end_time": "2020-11-26T13:23:52.237962Z",
     "start_time": "2020-11-26T13:23:52.229972Z"
    }
   },
   "outputs": [],
   "source": [
    "import numpy as np\n",
    "\n",
    "print(len(prediction[np.where(prediction > 0.5)]))\n",
    "print(len(prediction[np.where(prediction < 0.5)]))"
   ]
  },
  {
   "cell_type": "code",
   "execution_count": null,
   "metadata": {
    "scrolled": true
   },
   "outputs": [],
   "source": [
    "prediction"
   ]
  },
  {
   "cell_type": "code",
   "execution_count": null,
   "metadata": {},
   "outputs": [],
   "source": [
    "model.evaluate(valid_generator)"
   ]
  },
  {
   "cell_type": "code",
   "execution_count": null,
   "metadata": {},
   "outputs": [],
   "source": [
    "import matplotlib.pyplot as plt\n",
    "\n",
    "plt.plot(history.history['accuracy'])\n",
    "plt.plot(history.history['val_accuracy'])\n",
    "plt.title('model accuracy')\n",
    "plt.ylabel('accuracy')\n",
    "plt.xlabel('epoch')\n",
    "plt.legend(['train', 'test'], loc='upper left')\n",
    "plt.show()"
   ]
  },
  {
   "cell_type": "code",
   "execution_count": null,
   "metadata": {},
   "outputs": [],
   "source": [
    "plt.plot(history.history['loss'])\n",
    "plt.plot(history.history['val_loss'])\n",
    "plt.title('model loss')\n",
    "plt.ylabel('loss')\n",
    "plt.xlabel('epoch')\n",
    "plt.legend(['train', 'test'], loc='upper left')\n",
    "plt.show()"
   ]
  },
  {
   "cell_type": "code",
   "execution_count": null,
   "metadata": {},
   "outputs": [],
   "source": [
    "from keras.preprocessing import image\n",
    "img = image.load_img('preprocessed_data/test/positive/positive_0_2404.jpg', target_size=(400, 400, 3))\n",
    "\n",
    "get_output = tf.keras.backend.function([model.layers[0].input],\n",
    "                                       [model.layers[-3].output, model.layers[-1].output])\n",
    "# [conv_outputs, predictions] = get_output([valid_generator[0][0][0][0]])\n",
    "# class_weights = model.layers[-1].get_weights()[0]"
   ]
  },
  {
   "cell_type": "code",
   "execution_count": null,
   "metadata": {},
   "outputs": [],
   "source": [
    "valid_generator[0][0][0][0]"
   ]
  },
  {
   "cell_type": "code",
   "execution_count": null,
   "metadata": {},
   "outputs": [],
   "source": []
  },
  {
   "cell_type": "code",
   "execution_count": null,
   "metadata": {},
   "outputs": [],
   "source": []
  },
  {
   "cell_type": "code",
   "execution_count": null,
   "metadata": {},
   "outputs": [],
   "source": []
  }
 ],
 "metadata": {
  "kernelspec": {
   "display_name": "Python [conda env:tensorflow2_p36] *",
   "language": "python",
   "name": "conda-env-tensorflow2_p36-py"
  },
  "language_info": {
   "codemirror_mode": {
    "name": "ipython",
    "version": 3
   },
   "file_extension": ".py",
   "mimetype": "text/x-python",
   "name": "python",
   "nbconvert_exporter": "python",
   "pygments_lexer": "ipython3",
   "version": "3.6.10"
  },
  "varInspector": {
   "cols": {
    "lenName": 16,
    "lenType": 16,
    "lenVar": 40
   },
   "kernels_config": {
    "python": {
     "delete_cmd_postfix": "",
     "delete_cmd_prefix": "del ",
     "library": "var_list.py",
     "varRefreshCmd": "print(var_dic_list())"
    },
    "r": {
     "delete_cmd_postfix": ") ",
     "delete_cmd_prefix": "rm(",
     "library": "var_list.r",
     "varRefreshCmd": "cat(var_dic_list()) "
    }
   },
   "types_to_exclude": [
    "module",
    "function",
    "builtin_function_or_method",
    "instance",
    "_Feature"
   ],
   "window_display": false
  }
 },
 "nbformat": 4,
 "nbformat_minor": 2
}
